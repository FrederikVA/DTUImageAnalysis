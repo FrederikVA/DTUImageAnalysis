{
 "cells": [
  {
   "cell_type": "code",
   "execution_count": 2,
   "id": "f9c8dfb1",
   "metadata": {},
   "outputs": [
    {
     "name": "stdout",
     "output_type": "stream",
     "text": [
      "Number of features: 4 and number of observations: 50\n"
     ]
    }
   ],
   "source": [
    "import numpy as np\n",
    "iris_data = np.loadtxt('data/irisdata.txt', comments=\"%\")\n",
    "x = iris_data[0:50, 0:4]\n",
    "\n",
    "# checking data dimensions\n",
    "n_feat = x.shape[1]\n",
    "n_obs = x.shape[0]\n",
    "print(f\"Number of features: {n_feat} and number of observations: {n_obs}\")\n"
   ]
  },
  {
   "cell_type": "code",
   "execution_count": 3,
   "id": "72fba44c",
   "metadata": {},
   "outputs": [
    {
     "name": "stdout",
     "output_type": "stream",
     "text": [
      "Variance of sepal length: 0.12424897959183677\n",
      "Variance of sepal width: 0.1436897959183674\n",
      "Variance of petal length: 0.030159183673469384\n",
      "Variance of petal width: 0.01110612244897959\n"
     ]
    }
   ],
   "source": [
    "# Exploring the data\n",
    "# vectors of individual features\n",
    "sepal_length = x[:, 0]\n",
    "sepal_width = x[:, 1]\n",
    "petal_length = x[:, 2]\n",
    "petal_width = x[:, 3]\n",
    "\n",
    "#computed variance\n",
    "var_sepal_length = sepal_length.var(ddof=1)\n",
    "var_sepal_width = sepal_width.var(ddof=1)\n",
    "var_petal_length = petal_length.var(ddof=1)\n",
    "var_petal_width = petal_width.var(ddof=1)\n",
    "\n",
    "print(f\"Variance of sepal length: {var_sepal_length}\")\n",
    "print(f\"Variance of sepal width: {var_sepal_width}\")\n",
    "print(f\"Variance of petal length: {var_petal_length}\")\n",
    "print(f\"Variance of petal width: {var_petal_width}\")"
   ]
  },
  {
   "cell_type": "markdown",
   "id": "8701fe13",
   "metadata": {},
   "source": [
    "# Variance vs. Covariance\n",
    "\n",
    "## 🔹 Variance\n",
    "- **Definition:** A measure of how much a single variable spreads out around its mean.  \n",
    "- **Formula (for a variable X):**\n",
    "\\[\n",
    "\\text{Var}(X) = \\frac{1}{n} \\sum_{i=1}^n (x_i - \\bar{x})^2\n",
    "\\]\n",
    "- **Intuition:**\n",
    "  - If all values of \\(X\\) are close to the mean → low variance.\n",
    "  - If they are spread out → high variance.\n",
    "- **Example:** For people’s heights, variance tells you how much individual heights differ from the average height.\n",
    "\n",
    "---\n",
    "\n",
    "## 🔹 Covariance\n",
    "- **Definition:** A measure of how two variables change together.  \n",
    "- **Formula (for variables X and Y):**\n",
    "\\[\n",
    "\\text{Cov}(X, Y) = \\frac{1}{n} \\sum_{i=1}^n (x_i - \\bar{x})(y_i - \\bar{y})\n",
    "\\]\n",
    "- **Intuition:**\n",
    "  - **Positive covariance:** When \\(X\\) is above its mean, \\(Y\\) tends to be above its mean (they move together).\n",
    "  - **Negative covariance:** When \\(X\\) is above its mean, \\(Y\\) tends to be below its mean (they move oppositely).\n",
    "  - **Covariance ≈ 0:** No consistent relationship.\n",
    "\n",
    "---\n",
    "\n",
    "## 🔹 Relationship\n",
    "- Variance is a **special case of covariance**:\n",
    "\\[\n",
    "\\text{Var}(X) = \\text{Cov}(X, X)\n",
    "\\]\n",
    "\n",
    "---\n",
    "\n",
    "## 🔹 Visual intuition\n",
    "- **Variance:** Spread along one axis.  \n",
    "- **Covariance:** Whether clouds of points tilt together in 2D space.  \n",
    "\n",
    "Example: Scatterplot of height vs. weight:  \n",
    "- Taller people tend to weigh more → positive covariance.  \n",
    "- Taller people tend to weigh less → negative covariance.  \n",
    "- No relationship → covariance ≈ 0.  "
   ]
  },
  {
   "cell_type": "code",
   "execution_count": 7,
   "id": "9ac424ae",
   "metadata": {},
   "outputs": [
    {
     "name": "stdout",
     "output_type": "stream",
     "text": [
      "Covariance between sepal length and sepal width: 0.09921632653061224\n",
      "Covariance between sepal length and sepal width (manual calculation): 0.09921632653061223\n"
     ]
    }
   ],
   "source": [
    "# computed covariance between lepal length and sepal width\n",
    "cov_sepal_length_width = np.cov(sepal_length, sepal_width, ddof=1)[0, 1]\n",
    "print(f\"Covariance between sepal length and sepal width: {cov_sepal_length_width}\")     \n",
    "\n",
    "#and using $$\\sigma^2 = \\frac{1}{N-1} \\sum_i a_i b_i$$\n",
    "cov_sepal_length_width_manual = np.sum((sepal_length - sepal_length.mean()) * (sepal_width - sepal_width.mean())) / (n_obs - 1)\n",
    "print(f\"Covariance between sepal length and sepal width (manual calculation): {cov_sepal_length_width_manual}\")\n"
   ]
  },
  {
   "cell_type": "code",
   "execution_count": null,
   "id": "c144cfb2",
   "metadata": {},
   "outputs": [
    {
     "ename": "NameError",
     "evalue": "name 'plt' is not defined",
     "output_type": "error",
     "traceback": [
      "\u001b[31m---------------------------------------------------------------------------\u001b[39m",
      "\u001b[31mNameError\u001b[39m                                 Traceback (most recent call last)",
      "\u001b[36mCell\u001b[39m\u001b[36m \u001b[39m\u001b[32mIn[10]\u001b[39m\u001b[32m, line 6\u001b[39m\n\u001b[32m      3\u001b[39m \u001b[38;5;28;01mimport\u001b[39;00m\u001b[38;5;250m \u001b[39m\u001b[34;01mpandas\u001b[39;00m\u001b[38;5;250m \u001b[39m\u001b[38;5;28;01mas\u001b[39;00m\u001b[38;5;250m \u001b[39m\u001b[34;01mpd\u001b[39;00m\n\u001b[32m      5\u001b[39m \u001b[38;5;66;03m#pairplot\u001b[39;00m\n\u001b[32m----> \u001b[39m\u001b[32m6\u001b[39m \u001b[43mplt\u001b[49m.figure() \u001b[38;5;66;03m# to make sure the figure appear\u001b[39;00m\n\u001b[32m      7\u001b[39m \u001b[38;5;66;03m# transform data to pandas dataframe\u001b[39;00m\n\u001b[32m      8\u001b[39m d = pd.DataFrame(x, columns=[\u001b[33m'\u001b[39m\u001b[33msepal_length\u001b[39m\u001b[33m'\u001b[39m, \u001b[33m'\u001b[39m\u001b[33msepal_width\u001b[39m\u001b[33m'\u001b[39m, \u001b[33m'\u001b[39m\u001b[33mpetal_length\u001b[39m\u001b[33m'\u001b[39m, \u001b[33m'\u001b[39m\u001b[33mpetal_width\u001b[39m\u001b[33m'\u001b[39m])\n",
      "\u001b[31mNameError\u001b[39m: name 'plt' is not defined"
     ]
    }
   ],
   "source": [
    "#graphical exploration using seaborn and pandas\n",
    "import seaborn as sns\n",
    "import pandas as pd\n",
    "\n",
    "# transform data to pandas dataframe\n",
    "d = pd.DataFrame(x, columns=['sepal_length', 'sepal_width', 'petal_length', 'petal_width'])\n",
    "                             \n",
    "sns.pairplot(d)\n",
    "plt.show()"
   ]
  }
 ],
 "metadata": {
  "kernelspec": {
   "display_name": "testenv",
   "language": "python",
   "name": "python3"
  },
  "language_info": {
   "codemirror_mode": {
    "name": "ipython",
    "version": 3
   },
   "file_extension": ".py",
   "mimetype": "text/x-python",
   "name": "python",
   "nbconvert_exporter": "python",
   "pygments_lexer": "ipython3",
   "version": "3.11.13"
  }
 },
 "nbformat": 4,
 "nbformat_minor": 5
}
